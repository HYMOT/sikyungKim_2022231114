{
  "nbformat": 4,
  "nbformat_minor": 0,
  "metadata": {
    "colab": {
      "provenance": [],
      "authorship_tag": "ABX9TyN/4urtos1DsuQ7wQogQI4N",
      "include_colab_link": true
    },
    "kernelspec": {
      "name": "python3",
      "display_name": "Python 3"
    },
    "language_info": {
      "name": "python"
    }
  },
  "cells": [
    {
      "cell_type": "markdown",
      "metadata": {
        "id": "view-in-github",
        "colab_type": "text"
      },
      "source": [
        "<a href=\"https://colab.research.google.com/github/HYMOT/sikyungKim_2022231114/blob/main/Exercise%204%20(Types)%3A%20Expression.ipynb\" target=\"_parent\"><img src=\"https://colab.research.google.com/assets/colab-badge.svg\" alt=\"Open In Colab\"/></a>"
      ]
    },
    {
      "cell_type": "markdown",
      "metadata": {
        "id": "K3RS7wRW4YEG"
      },
      "source": [
        "<h3 id=\"exer_exp\">Exercise 4 (Types): Expression</h3>"
      ]
    },
    {
      "cell_type": "markdown",
      "metadata": {
        "id": "ZuAKu3VI4YEG"
      },
      "source": [
        "<p>Let's write an expression that calculates how many hours there are in 160 minutes:"
      ]
    },
    {
      "cell_type": "code",
      "execution_count": 8,
      "metadata": {
        "id": "Lc5Qhc164YEH",
        "colab": {
          "base_uri": "https://localhost:8080/"
        },
        "outputId": "6f42324f-a83f-4f90-eeac-2c6db547a203"
      },
      "outputs": [
        {
          "output_type": "stream",
          "name": "stdout",
          "text": [
            "2.6666666666666665\n"
          ]
        }
      ],
      "source": [
        "# Write your code below. Don't forget to press Shift+Enter to execute the cell\n",
        "minutes = 160\n",
        "hours = minutes / 60\n",
        "print(hours)"
      ]
    }
  ]
}
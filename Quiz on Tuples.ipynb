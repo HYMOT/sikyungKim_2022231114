{
  "nbformat": 4,
  "nbformat_minor": 0,
  "metadata": {
    "colab": {
      "provenance": [],
      "authorship_tag": "ABX9TyMS6oqxKiOk3X0s7jBuPGxH",
      "include_colab_link": true
    },
    "kernelspec": {
      "name": "python3",
      "display_name": "Python 3"
    },
    "language_info": {
      "name": "python"
    }
  },
  "cells": [
    {
      "cell_type": "markdown",
      "metadata": {
        "id": "view-in-github",
        "colab_type": "text"
      },
      "source": [
        "<a href=\"https://colab.research.google.com/github/HYMOT/sikyungKim_2022231114/blob/main/Quiz%20on%20Tuples.ipynb\" target=\"_parent\"><img src=\"https://colab.research.google.com/assets/colab-badge.svg\" alt=\"Open In Colab\"/></a>"
      ]
    },
    {
      "cell_type": "markdown",
      "metadata": {
        "id": "WfaOSGtXTSkd"
      },
      "source": [
        "<h2 id=\"quiz\">Quiz on Tuples</h2>"
      ]
    },
    {
      "cell_type": "markdown",
      "metadata": {
        "id": "PCG7vENSTSkd"
      },
      "source": [
        "Consider the following tuple:"
      ]
    },
    {
      "cell_type": "code",
      "execution_count": 40,
      "metadata": {
        "colab": {
          "base_uri": "https://localhost:8080/"
        },
        "id": "60-6rzdhTSke",
        "outputId": "995d1649-cf09-45b5-f371-7766cb042c74"
      },
      "outputs": [
        {
          "output_type": "execute_result",
          "data": {
            "text/plain": [
              "('pop',\n",
              " 'rock',\n",
              " 'soul',\n",
              " 'hard rock',\n",
              " 'soft rock',\n",
              " 'R&B',\n",
              " 'progressive rock',\n",
              " 'disco')"
            ]
          },
          "metadata": {},
          "execution_count": 40
        }
      ],
      "source": [
        "# sample tuple\n",
        "\n",
        "genres_tuple = (\"pop\", \"rock\", \"soul\", \"hard rock\", \"soft rock\", \\\n",
        "                \"R&B\", \"progressive rock\", \"disco\") \n",
        "genres_tuple"
      ]
    },
    {
      "cell_type": "markdown",
      "metadata": {
        "id": "g5pE31RtTSke"
      },
      "source": [
        "Find the length of the tuple, <code>genres_tuple</code>:"
      ]
    },
    {
      "cell_type": "code",
      "execution_count": 41,
      "metadata": {
        "id": "CjPoP2NlTSke",
        "colab": {
          "base_uri": "https://localhost:8080/"
        },
        "outputId": "ee6475fb-0d2b-43f5-f550-5803568d7c4c"
      },
      "outputs": [
        {
          "output_type": "stream",
          "name": "stdout",
          "text": [
            "8\n"
          ]
        }
      ],
      "source": [
        "# Write your code below and press Shift+Enter to execute\n",
        "gt_len = len(genres_tuple)\n",
        "print(gt_len)"
      ]
    },
    {
      "cell_type": "markdown",
      "metadata": {
        "id": "nxGKq_zXTSke"
      },
      "source": [
        "Access the element, with respect to index 3: "
      ]
    },
    {
      "cell_type": "code",
      "execution_count": 42,
      "metadata": {
        "id": "dDQOgOryTSke",
        "colab": {
          "base_uri": "https://localhost:8080/"
        },
        "outputId": "56af65e3-813b-4a3e-a913-f3cec92681bf"
      },
      "outputs": [
        {
          "output_type": "stream",
          "name": "stdout",
          "text": [
            "hard rock\n"
          ]
        }
      ],
      "source": [
        "# Write your code below and press Shift+Enter to execute\n",
        "gt = genres_tuple[3]\n",
        "print(gt)"
      ]
    },
    {
      "cell_type": "markdown",
      "metadata": {
        "id": "MgCTKy1DTSke"
      },
      "source": [
        "Use slicing to obtain indexes 3, 4 and 5:"
      ]
    },
    {
      "cell_type": "code",
      "execution_count": 43,
      "metadata": {
        "id": "M52TZCM5TSkf",
        "colab": {
          "base_uri": "https://localhost:8080/"
        },
        "outputId": "068cc408-9fd3-4b09-c40c-a8048fbed402"
      },
      "outputs": [
        {
          "output_type": "stream",
          "name": "stdout",
          "text": [
            "('hard rock', 'soft rock', 'R&B')\n"
          ]
        }
      ],
      "source": [
        "# Write your code below and press Shift+Enter to execute\n",
        "gt_index = genres_tuple[3:6]\n",
        "print(gt_index)"
      ]
    },
    {
      "cell_type": "markdown",
      "metadata": {
        "id": "2FRQJentTSkf"
      },
      "source": [
        "Find the first two elements of the tuple <code>genres_tuple</code>:"
      ]
    },
    {
      "cell_type": "code",
      "execution_count": 44,
      "metadata": {
        "id": "siRm-jjETSkf",
        "colab": {
          "base_uri": "https://localhost:8080/"
        },
        "outputId": "74cd5b0c-83ab-4662-a6d2-fbf4b46ff60c"
      },
      "outputs": [
        {
          "output_type": "stream",
          "name": "stdout",
          "text": [
            "('pop', 'rock')\n"
          ]
        }
      ],
      "source": [
        "# Write your code below and press Shift+Enter to execute\n",
        "gt_two = genres_tuple[0:2]\n",
        "print(gt_two)"
      ]
    },
    {
      "cell_type": "markdown",
      "metadata": {
        "id": "lfjDzdWVTSkf"
      },
      "source": [
        "Find the first index of <code>\"disco\"</code>:"
      ]
    },
    {
      "cell_type": "code",
      "execution_count": 45,
      "metadata": {
        "id": "ViKYpk8rTSkf",
        "colab": {
          "base_uri": "https://localhost:8080/"
        },
        "outputId": "1fddacb8-ac55-4de7-8c6b-f11db30eb502"
      },
      "outputs": [
        {
          "output_type": "stream",
          "name": "stdout",
          "text": [
            "7\n"
          ]
        }
      ],
      "source": [
        "# Write your code below and press Shift+Enter to execute\n",
        "disco_index = genres_tuple.index(\"disco\")\n",
        "print(disco_index)"
      ]
    },
    {
      "cell_type": "markdown",
      "metadata": {
        "id": "oi9ePenbTSkf"
      },
      "source": [
        "Generate a sorted List from the Tuple <code>C_tuple=(-5, 1, -3)</code>:"
      ]
    },
    {
      "cell_type": "code",
      "execution_count": 46,
      "metadata": {
        "id": "bAs8GFw2TSkf",
        "colab": {
          "base_uri": "https://localhost:8080/"
        },
        "outputId": "51611454-df15-4b62-c9cf-27541823b51a"
      },
      "outputs": [
        {
          "output_type": "stream",
          "name": "stdout",
          "text": [
            "[-5, -3, 1]\n"
          ]
        }
      ],
      "source": [
        "# Write your code below and press Shift+Enter to execute\n",
        "C_tuple = (-5, 1, -3)\n",
        "C_list = sorted(C_tuple)\n",
        "print(C_list)"
      ]
    }
  ]
}